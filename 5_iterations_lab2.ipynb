{
  "nbformat": 4,
  "nbformat_minor": 0,
  "metadata": {
    "colab": {
      "name": "5_iterations_lab2.ipynb",
      "provenance": [],
      "collapsed_sections": [],
      "authorship_tag": "ABX9TyPMsBdVkkZt/vfEsymUMuHG",
      "include_colab_link": true
    },
    "kernelspec": {
      "name": "python3",
      "display_name": "Python 3"
    }
  },
  "cells": [
    {
      "cell_type": "markdown",
      "metadata": {
        "id": "view-in-github",
        "colab_type": "text"
      },
      "source": [
        "<a href=\"https://colab.research.google.com/github/ys7yoo/python_lab/blob/master/5_iterations_lab2.ipynb\" target=\"_parent\"><img src=\"https://colab.research.google.com/assets/colab-badge.svg\" alt=\"Open In Colab\"/></a>"
      ]
    },
    {
      "cell_type": "markdown",
      "metadata": {
        "id": "yjEdcTdj8wT7",
        "colab_type": "text"
      },
      "source": [
        "# Finding square root using the Newton method\n",
        "\n"
      ]
    },
    {
      "cell_type": "markdown",
      "metadata": {
        "id": "m3XszlxXBTk8",
        "colab_type": "text"
      },
      "source": [
        "## let's do using local variables"
      ]
    },
    {
      "cell_type": "code",
      "metadata": {
        "id": "n-Wsll4e9dkd",
        "colab_type": "code",
        "colab": {
          "base_uri": "https://localhost:8080/",
          "height": 55
        },
        "outputId": "1d2cfa84-6131-4ba5-99af-ae92fbea76ff"
      },
      "source": [
        "a = 4 # square root of 4 is 2.\n",
        "\n",
        "# initilalize x \n",
        "x = 3\n",
        "\n",
        "# main loop here\n",
        "while True:\n",
        "  x_new = (x + a / x) / 2\n",
        "  if abs(x_new - x) < 1e-12:\n",
        "    break\n",
        "  x = x_new\n",
        "\n",
        "# when done, print the result\n",
        "print(x)"
      ],
      "execution_count": 8,
      "outputs": [
        {
          "output_type": "stream",
          "text": [
            "2.0\n"
          ],
          "name": "stdout"
        }
      ]
    },
    {
      "cell_type": "markdown",
      "metadata": {
        "id": "zOlh-5MwABpZ",
        "colab_type": "text"
      },
      "source": [
        "## Let's make it to a function"
      ]
    },
    {
      "cell_type": "code",
      "metadata": {
        "id": "wQpoz-56_oJK",
        "colab_type": "code",
        "colab": {}
      },
      "source": [
        "def square_root(a, xo, epsilon=1e-12):\n",
        "  # initilalize x \n",
        "  x = xo\n",
        "\n",
        "  # main loop here\n",
        "  while True:\n",
        "    x_new = (x + a / x) / 2\n",
        "    if abs(x_new - x) < epsilon:\n",
        "      break\n",
        "    x = x_new\n",
        "\n",
        "  # when done, return the result\n",
        "  return x"
      ],
      "execution_count": 0,
      "outputs": []
    },
    {
      "cell_type": "code",
      "metadata": {
        "id": "5HD7RS_qAqdj",
        "colab_type": "code",
        "colab": {
          "base_uri": "https://localhost:8080/",
          "height": 55
        },
        "outputId": "151d567c-edf5-4abf-a0a5-78c890f07cc9"
      },
      "source": [
        "# let's call this function\n",
        "square_root(4, 3)"
      ],
      "execution_count": 11,
      "outputs": [
        {
          "output_type": "execute_result",
          "data": {
            "text/plain": [
              "2.0"
            ]
          },
          "metadata": {
            "tags": []
          },
          "execution_count": 11
        }
      ]
    },
    {
      "cell_type": "code",
      "metadata": {
        "id": "Xgxa6ShYAwjH",
        "colab_type": "code",
        "colab": {
          "base_uri": "https://localhost:8080/",
          "height": 55
        },
        "outputId": "ca06761f-d1e5-49a1-c5e6-51e4012161eb"
      },
      "source": [
        "# let's call this function with manual input precision\n",
        "square_root(4, 3, 1e-6)"
      ],
      "execution_count": 12,
      "outputs": [
        {
          "output_type": "execute_result",
          "data": {
            "text/plain": [
              "2.0000000000262146"
            ]
          },
          "metadata": {
            "tags": []
          },
          "execution_count": 12
        }
      ]
    },
    {
      "cell_type": "code",
      "metadata": {
        "id": "Vf7tXwf-A_zy",
        "colab_type": "code",
        "colab": {
          "base_uri": "https://localhost:8080/",
          "height": 55
        },
        "outputId": "302adaaf-c4c0-4416-82fd-a11550a75216"
      },
      "source": [
        "# let's call this function with higher precision\n",
        "square_root(4, 3, 1e-18)"
      ],
      "execution_count": 13,
      "outputs": [
        {
          "output_type": "execute_result",
          "data": {
            "text/plain": [
              "2.0"
            ]
          },
          "metadata": {
            "tags": []
          },
          "execution_count": 13
        }
      ]
    },
    {
      "cell_type": "code",
      "metadata": {
        "id": "edqJYcD6BHOh",
        "colab_type": "code",
        "colab": {}
      },
      "source": [
        ""
      ],
      "execution_count": 0,
      "outputs": []
    }
  ]
}