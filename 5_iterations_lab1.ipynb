{
  "nbformat": 4,
  "nbformat_minor": 0,
  "metadata": {
    "colab": {
      "name": "Untitled13.ipynb",
      "provenance": [],
      "collapsed_sections": [],
      "authorship_tag": "ABX9TyPuNaIZbPvBgliLnATA/1Mf",
      "include_colab_link": true
    },
    "kernelspec": {
      "name": "python3",
      "display_name": "Python 3"
    }
  },
  "cells": [
    {
      "cell_type": "markdown",
      "metadata": {
        "id": "view-in-github",
        "colab_type": "text"
      },
      "source": [
        "<a href=\"https://colab.research.google.com/github/ys7yoo/python_lab/blob/master/5_iterations_lab1.ipynb\" target=\"_parent\"><img src=\"https://colab.research.google.com/assets/colab-badge.svg\" alt=\"Open In Colab\"/></a>"
      ]
    },
    {
      "cell_type": "markdown",
      "metadata": {
        "id": "lr5QA7lh1EX5",
        "colab_type": "text"
      },
      "source": [
        "# `for` loop"
      ]
    },
    {
      "cell_type": "markdown",
      "metadata": {
        "id": "PccB_m8O2uH9",
        "colab_type": "text"
      },
      "source": [
        "## `for` loop with `range`"
      ]
    },
    {
      "cell_type": "code",
      "metadata": {
        "id": "lSuhNSnB2hIR",
        "colab_type": "code",
        "colab": {
          "base_uri": "https://localhost:8080/",
          "height": 108
        },
        "outputId": "f9f65a67-8cee-45b5-f340-5837a66551aa"
      },
      "source": [
        "print('Hello!')\n",
        "print('Hello!')\n",
        "print('Hello!')\n",
        "print('Hello!')"
      ],
      "execution_count": 5,
      "outputs": [
        {
          "output_type": "stream",
          "text": [
            "Hello!\n",
            "Hello!\n",
            "Hello!\n",
            "Hello!\n"
          ],
          "name": "stdout"
        }
      ]
    },
    {
      "cell_type": "code",
      "metadata": {
        "id": "KFdty92L1thY",
        "colab_type": "code",
        "colab": {
          "base_uri": "https://localhost:8080/",
          "height": 108
        },
        "outputId": "fbfe0639-1ce9-47ac-86bb-0d94509d833c"
      },
      "source": [
        "for i in range(4):\n",
        "  print('Hello!')"
      ],
      "execution_count": 4,
      "outputs": [
        {
          "output_type": "stream",
          "text": [
            "Hello!\n",
            "Hello!\n",
            "Hello!\n",
            "Hello!\n"
          ],
          "name": "stdout"
        }
      ]
    },
    {
      "cell_type": "code",
      "metadata": {
        "id": "fyGeRi382m1M",
        "colab_type": "code",
        "colab": {
          "base_uri": "https://localhost:8080/",
          "height": 213
        },
        "outputId": "0da3f4d8-490d-478f-cadd-83b0c21f3340"
      },
      "source": [
        "n = 10\n",
        "for i in range(n):\n",
        "  print('Hello!')"
      ],
      "execution_count": 6,
      "outputs": [
        {
          "output_type": "stream",
          "text": [
            "Hello!\n",
            "Hello!\n",
            "Hello!\n",
            "Hello!\n",
            "Hello!\n",
            "Hello!\n",
            "Hello!\n",
            "Hello!\n",
            "Hello!\n",
            "Hello!\n"
          ],
          "name": "stdout"
        }
      ]
    },
    {
      "cell_type": "markdown",
      "metadata": {
        "id": "_bFifU3J20Eo",
        "colab_type": "text"
      },
      "source": [
        "## `for` loop in general"
      ]
    },
    {
      "cell_type": "code",
      "metadata": {
        "id": "h356msqk254f",
        "colab_type": "code",
        "colab": {
          "base_uri": "https://localhost:8080/",
          "height": 108
        },
        "outputId": "3218527f-1c05-4039-c5af-882a290ad7e9"
      },
      "source": [
        "for i in range(4):\n",
        "  print(i)"
      ],
      "execution_count": 7,
      "outputs": [
        {
          "output_type": "stream",
          "text": [
            "0\n",
            "1\n",
            "2\n",
            "3\n"
          ],
          "name": "stdout"
        }
      ]
    },
    {
      "cell_type": "code",
      "metadata": {
        "id": "ljU2Jc8I3BTI",
        "colab_type": "code",
        "colab": {
          "base_uri": "https://localhost:8080/",
          "height": 55
        },
        "outputId": "f0f06b7c-07a8-44df-b872-412926ccfd40"
      },
      "source": [
        "range(4)"
      ],
      "execution_count": 8,
      "outputs": [
        {
          "output_type": "execute_result",
          "data": {
            "text/plain": [
              "range(0, 4)"
            ]
          },
          "metadata": {
            "tags": []
          },
          "execution_count": 8
        }
      ]
    },
    {
      "cell_type": "code",
      "metadata": {
        "id": "W37pLsfP3JLu",
        "colab_type": "code",
        "colab": {
          "base_uri": "https://localhost:8080/",
          "height": 55
        },
        "outputId": "3cc2a8c4-2d81-451b-eebb-f2627a778dd7"
      },
      "source": [
        "list(range(4))"
      ],
      "execution_count": 9,
      "outputs": [
        {
          "output_type": "execute_result",
          "data": {
            "text/plain": [
              "[0, 1, 2, 3]"
            ]
          },
          "metadata": {
            "tags": []
          },
          "execution_count": 9
        }
      ]
    },
    {
      "cell_type": "code",
      "metadata": {
        "id": "JiXU7QQx3S9k",
        "colab_type": "code",
        "colab": {
          "base_uri": "https://localhost:8080/",
          "height": 125
        },
        "outputId": "510d395a-f852-43c3-e702-dcfde0a46ce9"
      },
      "source": [
        "for i in [1, 2, 4, 8, 16]:\n",
        "  print(i)\n",
        "  # do some computations"
      ],
      "execution_count": 10,
      "outputs": [
        {
          "output_type": "stream",
          "text": [
            "1\n",
            "2\n",
            "4\n",
            "8\n",
            "16\n"
          ],
          "name": "stdout"
        }
      ]
    },
    {
      "cell_type": "code",
      "metadata": {
        "id": "CpzpZGum3sD9",
        "colab_type": "code",
        "colab": {
          "base_uri": "https://localhost:8080/",
          "height": 90
        },
        "outputId": "13f8f9f5-e643-4776-9064-dba9754fb8a1"
      },
      "source": [
        "for s in ['apple', 'orange', 'grape']:\n",
        "  print('I like ' + s)"
      ],
      "execution_count": 11,
      "outputs": [
        {
          "output_type": "stream",
          "text": [
            "I like apple\n",
            "I like orange\n",
            "I like grape\n"
          ],
          "name": "stdout"
        }
      ]
    },
    {
      "cell_type": "markdown",
      "metadata": {
        "id": "EHWDpxgW1Elg",
        "colab_type": "text"
      },
      "source": [
        "# `while` loop"
      ]
    },
    {
      "cell_type": "markdown",
      "metadata": {
        "id": "e1kP3_cG4JrA",
        "colab_type": "text"
      },
      "source": [
        "## count down example"
      ]
    },
    {
      "cell_type": "code",
      "metadata": {
        "id": "RSPyb8UY06hd",
        "colab_type": "code",
        "colab": {
          "base_uri": "https://localhost:8080/",
          "height": 143
        },
        "outputId": "24bdc452-7a42-49c5-ac56-7ed0067053b5"
      },
      "source": [
        "n = 5\n",
        "while n > 0:\n",
        "  print(n)\n",
        "  n = n - 1\n",
        "print('blastoff')"
      ],
      "execution_count": 1,
      "outputs": [
        {
          "output_type": "stream",
          "text": [
            "5\n",
            "4\n",
            "3\n",
            "2\n",
            "1\n",
            "blastoff\n"
          ],
          "name": "stdout"
        }
      ]
    },
    {
      "cell_type": "code",
      "metadata": {
        "id": "Btg_V0O74bHX",
        "colab_type": "code",
        "colab": {}
      },
      "source": [
        "# mistake (DON'T RUN)\n",
        "# the following while loop will NOT end.\n",
        "n = 5\n",
        "while n > 0:\n",
        "  print(n)\n",
        "  # n = n - 1\n",
        "print('blastoff')"
      ],
      "execution_count": 0,
      "outputs": []
    },
    {
      "cell_type": "markdown",
      "metadata": {
        "id": "_cI--mcp5Bzj",
        "colab_type": "text"
      },
      "source": [
        "## another `while` loop"
      ]
    },
    {
      "cell_type": "code",
      "metadata": {
        "id": "f70myMCV5Dna",
        "colab_type": "code",
        "colab": {
          "base_uri": "https://localhost:8080/",
          "height": 178
        },
        "outputId": "d1637665-3b18-47dc-f75a-1ebde47cb83d"
      },
      "source": [
        "n = 3\n",
        "while n != 1:\n",
        "    print(n)\n",
        "    if n %2 == 0: # even\n",
        "        n = n / 2\n",
        "    else:         # odd\n",
        "        n = n * 3 + 1\n",
        "print('Done.')"
      ],
      "execution_count": 2,
      "outputs": [
        {
          "output_type": "stream",
          "text": [
            "3\n",
            "10\n",
            "5.0\n",
            "16.0\n",
            "8.0\n",
            "4.0\n",
            "2.0\n",
            "Done.\n"
          ],
          "name": "stdout"
        }
      ]
    },
    {
      "cell_type": "markdown",
      "metadata": {
        "id": "g3whnJ0Z6Eza",
        "colab_type": "text"
      },
      "source": [
        "## `for` loop with `break`"
      ]
    },
    {
      "cell_type": "code",
      "metadata": {
        "id": "mQNiz_nN5NM7",
        "colab_type": "code",
        "colab": {
          "base_uri": "https://localhost:8080/",
          "height": 178
        },
        "outputId": "f250e108-0628-4303-c457-7c8ada5c2712"
      },
      "source": [
        "\twhile True:\n",
        "    line = input('> ')\n",
        "    if line == 'done':  # exit the loop when input is done.\n",
        "        break\n",
        "    print(line)\n",
        "print('done')"
      ],
      "execution_count": 3,
      "outputs": [
        {
          "output_type": "stream",
          "text": [
            "> 1st input\n",
            "1st input\n",
            "> 2nd input\n",
            "2nd input\n",
            "> 3rd input\n",
            "3rd input\n",
            "> done\n",
            "done\n"
          ],
          "name": "stdout"
        }
      ]
    },
    {
      "cell_type": "code",
      "metadata": {
        "id": "WzhgdgPl6Y_E",
        "colab_type": "code",
        "colab": {}
      },
      "source": [
        ""
      ],
      "execution_count": 0,
      "outputs": []
    }
  ]
}