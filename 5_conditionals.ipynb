{
  "nbformat": 4,
  "nbformat_minor": 0,
  "metadata": {
    "colab": {
      "name": "Untitled11.ipynb",
      "provenance": [],
      "collapsed_sections": [],
      "authorship_tag": "ABX9TyOIuR1A+0q1FBnvflT3sIBR",
      "include_colab_link": true
    },
    "kernelspec": {
      "name": "python3",
      "display_name": "Python 3"
    }
  },
  "cells": [
    {
      "cell_type": "markdown",
      "metadata": {
        "id": "view-in-github",
        "colab_type": "text"
      },
      "source": [
        "<a href=\"https://colab.research.google.com/github/ys7yoo/python_lab/blob/master/5_conditionals.ipynb\" target=\"_parent\"><img src=\"https://colab.research.google.com/assets/colab-badge.svg\" alt=\"Open In Colab\"/></a>"
      ]
    },
    {
      "cell_type": "markdown",
      "metadata": {
        "id": "Vnyw8LEsZyao",
        "colab_type": "text"
      },
      "source": [
        "## 1. CONDITIONAL EXECUTION"
      ]
    },
    {
      "cell_type": "code",
      "metadata": {
        "id": "7nXnSp1oZ8am",
        "colab_type": "code",
        "colab": {
          "base_uri": "https://localhost:8080/",
          "height": 34
        },
        "outputId": "35bed759-2852-4726-fbf5-b2d08aa515f0"
      },
      "source": [
        "x = 1 \n",
        "\n",
        "if x>0:\n",
        "  print(\"x is positive\")"
      ],
      "execution_count": 9,
      "outputs": [
        {
          "output_type": "stream",
          "text": [
            "x is positive\n"
          ],
          "name": "stdout"
        }
      ]
    },
    {
      "cell_type": "code",
      "metadata": {
        "id": "EhUxBoWRf60F",
        "colab_type": "code",
        "colab": {}
      },
      "source": [
        "x = -1 \n",
        "\n",
        "if x>0:\n",
        "  print(\"x is positive\")"
      ],
      "execution_count": 0,
      "outputs": []
    },
    {
      "cell_type": "code",
      "metadata": {
        "id": "fAVqqnZif-BO",
        "colab_type": "code",
        "colab": {}
      },
      "source": [
        "x = 0\n",
        "\n",
        "if x>0:\n",
        "  print(\"x is positive\")"
      ],
      "execution_count": 0,
      "outputs": []
    },
    {
      "cell_type": "code",
      "metadata": {
        "id": "a7qQDeLOgJ_6",
        "colab_type": "code",
        "colab": {}
      },
      "source": [
        "temperature = 10\n",
        "wind = 7\n",
        "rain = True\n",
        "\n",
        "if 20 < temperature < 25 and 3 < wind < 5 and not rain:\n",
        "  print(\"Wheather is nice!\")"
      ],
      "execution_count": 0,
      "outputs": []
    },
    {
      "cell_type": "code",
      "metadata": {
        "id": "c11w5FBoggdA",
        "colab_type": "code",
        "colab": {}
      },
      "source": [
        "temperature = 22\n",
        "wind = 7\n",
        "rain = True\n",
        "\n",
        "if 20 < temperature < 25 and 3 < wind < 5 and not rain:\n",
        "  print(\"Wheather is nice!\")"
      ],
      "execution_count": 0,
      "outputs": []
    },
    {
      "cell_type": "code",
      "metadata": {
        "id": "L8O-xQW-gne0",
        "colab_type": "code",
        "colab": {}
      },
      "source": [
        "temperature = 22\n",
        "wind = 4\n",
        "rain = True\n",
        "\n",
        "if 20 < temperature < 25 and 3 < wind < 5 and not rain:\n",
        "  print(\"Wheather is nice!\")"
      ],
      "execution_count": 0,
      "outputs": []
    },
    {
      "cell_type": "code",
      "metadata": {
        "id": "y1XucNvAgq1H",
        "colab_type": "code",
        "colab": {
          "base_uri": "https://localhost:8080/",
          "height": 34
        },
        "outputId": "1c701cdc-a113-4df5-f932-8387ba119f8a"
      },
      "source": [
        "temperature = 22\n",
        "wind = 4\n",
        "rain = False\n",
        "\n",
        "if 20 < temperature < 25 and 3 < wind < 5 and not rain:\n",
        "  print(\"Wheather is nice!\")"
      ],
      "execution_count": 15,
      "outputs": [
        {
          "output_type": "stream",
          "text": [
            "Wheather is nice!\n"
          ],
          "name": "stdout"
        }
      ]
    },
    {
      "cell_type": "markdown",
      "metadata": {
        "id": "42GIiUBMZmQr",
        "colab_type": "text"
      },
      "source": [
        "## 2. ALTERNATIVE EXECUTION\n",
        "if-else statement"
      ]
    },
    {
      "cell_type": "code",
      "metadata": {
        "id": "R4asA_lJZ88M",
        "colab_type": "code",
        "colab": {
          "base_uri": "https://localhost:8080/",
          "height": 34
        },
        "outputId": "6cf8c94a-e199-42e8-8fdb-98e032ab36fd"
      },
      "source": [
        "x = 7\n",
        "\n",
        "if x % 2 == 0:\n",
        "  print(\"even\")\n",
        "else:\n",
        "  print(\"odd\")"
      ],
      "execution_count": 16,
      "outputs": [
        {
          "output_type": "stream",
          "text": [
            "odd\n"
          ],
          "name": "stdout"
        }
      ]
    },
    {
      "cell_type": "code",
      "metadata": {
        "id": "P3zfcylPhJOK",
        "colab_type": "code",
        "colab": {
          "base_uri": "https://localhost:8080/",
          "height": 34
        },
        "outputId": "bdff8f80-0fa2-4e86-9fa8-821531f48842"
      },
      "source": [
        "x = 6\n",
        "\n",
        "if x % 2 == 0:\n",
        "  print(\"even\")\n",
        "else:\n",
        "  print(\"odd\")"
      ],
      "execution_count": 17,
      "outputs": [
        {
          "output_type": "stream",
          "text": [
            "even\n"
          ],
          "name": "stdout"
        }
      ]
    },
    {
      "cell_type": "markdown",
      "metadata": {
        "id": "c1DnhRH6ZmU7",
        "colab_type": "text"
      },
      "source": [
        "## 3. CHAINED CONDITIONALS"
      ]
    },
    {
      "cell_type": "code",
      "metadata": {
        "id": "MOziS8gDZ9ct",
        "colab_type": "code",
        "colab": {
          "base_uri": "https://localhost:8080/",
          "height": 34
        },
        "outputId": "34a86aaf-027f-4e2b-9e3c-2225328a6fd8"
      },
      "source": [
        "x = 3\n",
        "y = 4\n",
        "\n",
        "if x < y:\n",
        "  print('x is less than y')\n",
        "elif x > y:\n",
        "  print('x is greater than y')\n",
        "else:\n",
        "  print('x is equal to y')"
      ],
      "execution_count": 18,
      "outputs": [
        {
          "output_type": "stream",
          "text": [
            "x is less than y\n"
          ],
          "name": "stdout"
        }
      ]
    },
    {
      "cell_type": "code",
      "metadata": {
        "id": "2nE0jI3Khrzz",
        "colab_type": "code",
        "colab": {
          "base_uri": "https://localhost:8080/",
          "height": 34
        },
        "outputId": "c866566d-f7bb-473e-e8d3-5b0c9020060d"
      },
      "source": [
        "x = 4\n",
        "y = 3\n",
        "\n",
        "if x < y:\n",
        "  print('x is less than y')\n",
        "elif x > y:\n",
        "  print('x is greater than y')\n",
        "else:\n",
        "  print('x is equal to y')"
      ],
      "execution_count": 19,
      "outputs": [
        {
          "output_type": "stream",
          "text": [
            "x is greater than y\n"
          ],
          "name": "stdout"
        }
      ]
    },
    {
      "cell_type": "code",
      "metadata": {
        "id": "oxitoKj4hzwi",
        "colab_type": "code",
        "colab": {
          "base_uri": "https://localhost:8080/",
          "height": 34
        },
        "outputId": "e4973685-ef25-4461-f79e-d1fc35d22f9b"
      },
      "source": [
        "x = 4\n",
        "y = 4\n",
        "\n",
        "if x < y:\n",
        "  print('x is less than y')\n",
        "elif x > y:\n",
        "  print('x is greater than y')\n",
        "else:\n",
        "  print('x is equal to y')"
      ],
      "execution_count": 20,
      "outputs": [
        {
          "output_type": "stream",
          "text": [
            "x is equal to y\n"
          ],
          "name": "stdout"
        }
      ]
    },
    {
      "cell_type": "markdown",
      "metadata": {
        "id": "XKSHxEVDZmZH",
        "colab_type": "text"
      },
      "source": [
        "## 4. NESTED CONDITIONALS"
      ]
    },
    {
      "cell_type": "code",
      "metadata": {
        "id": "5KM6B9xDZ997",
        "colab_type": "code",
        "colab": {
          "base_uri": "https://localhost:8080/",
          "height": 34
        },
        "outputId": "440859c8-d4a5-40cf-846b-30381566ec68"
      },
      "source": [
        "if x == y:\n",
        "  print('x is equal to y')\n",
        "else:\n",
        "  if x < y:\n",
        "    print('x is less than y')\n",
        "  else:\n",
        "    print('x is greater than y')"
      ],
      "execution_count": 21,
      "outputs": [
        {
          "output_type": "stream",
          "text": [
            "x is equal to y\n"
          ],
          "name": "stdout"
        }
      ]
    },
    {
      "cell_type": "code",
      "metadata": {
        "id": "mpyGIpDcirXr",
        "colab_type": "code",
        "colab": {
          "base_uri": "https://localhost:8080/",
          "height": 130
        },
        "outputId": "da6a9402-4016-44d4-f04b-4b454c228df8"
      },
      "source": [
        "if x == y:\n",
        "  print('x is equal to y')\n",
        "else:\n",
        "  if x < y:\n",
        "    print('x is less than y')\n",
        "else:   # mistake in indent\n",
        "  print('x is greater than y')"
      ],
      "execution_count": 21,
      "outputs": [
        {
          "output_type": "error",
          "ename": "SyntaxError",
          "evalue": "ignored",
          "traceback": [
            "\u001b[0;36m  File \u001b[0;32m\"<ipython-input-22-92de050b3c86>\"\u001b[0;36m, line \u001b[0;32m6\u001b[0m\n\u001b[0;31m    else:   # mistake in indent\u001b[0m\n\u001b[0m       ^\u001b[0m\n\u001b[0;31mSyntaxError\u001b[0m\u001b[0;31m:\u001b[0m invalid syntax\n"
          ]
        }
      ]
    },
    {
      "cell_type": "markdown",
      "metadata": {
        "id": "DV8ruIkXkJ3x",
        "colab_type": "text"
      },
      "source": [
        "Nested if is very difficult to read. Avoid it."
      ]
    },
    {
      "cell_type": "markdown",
      "metadata": {
        "id": "JRkJ5I1AeATl",
        "colab_type": "text"
      },
      "source": [
        "https://github.com/python-pillow/Pillow/blob/6.1.x/src/PIL/TiffImagePlugin.py#L807\n"
      ]
    },
    {
      "cell_type": "code",
      "metadata": {
        "id": "XUgSr7WHeU4B",
        "colab_type": "code",
        "colab": {}
      },
      "source": [
        ""
      ],
      "execution_count": 0,
      "outputs": []
    }
  ]
}