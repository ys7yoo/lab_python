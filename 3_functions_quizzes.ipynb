{
  "nbformat": 4,
  "nbformat_minor": 0,
  "metadata": {
    "colab": {
      "name": "Untitled7.ipynb",
      "provenance": [],
      "collapsed_sections": [],
      "authorship_tag": "ABX9TyOGdMeIhjL28VyJ0Vl5A2lE",
      "include_colab_link": true
    },
    "kernelspec": {
      "name": "python3",
      "display_name": "Python 3"
    }
  },
  "cells": [
    {
      "cell_type": "markdown",
      "metadata": {
        "id": "view-in-github",
        "colab_type": "text"
      },
      "source": [
        "<a href=\"https://colab.research.google.com/github/ys7yoo/python_lab/blob/master/3_functions_quizzes.ipynb\" target=\"_parent\"><img src=\"https://colab.research.google.com/assets/colab-badge.svg\" alt=\"Open In Colab\"/></a>"
      ]
    },
    {
      "cell_type": "markdown",
      "metadata": {
        "id": "F4D_NSV0htQa",
        "colab_type": "text"
      },
      "source": [
        "## Quiz 1. Aurura's quiz scores"
      ]
    },
    {
      "cell_type": "code",
      "metadata": {
        "id": "U3caOmPRhJe-",
        "colab_type": "code",
        "colab": {}
      },
      "source": [
        "# calculate Aurora's average score\n",
        "quiz1 = 8\n",
        "quiz2 = 7\n",
        "quiz3 = 8\n",
        "\n",
        "average = (quiz1 + quiz2 + quiz3) / 3"
      ],
      "execution_count": 0,
      "outputs": []
    },
    {
      "cell_type": "code",
      "metadata": {
        "id": "SeOADWxVhZW-",
        "colab_type": "code",
        "colab": {
          "base_uri": "https://localhost:8080/",
          "height": 34
        },
        "outputId": "531bd4ef-1928-4480-a29e-223567c1fff6"
      },
      "source": [
        "print(average)"
      ],
      "execution_count": 2,
      "outputs": [
        {
          "output_type": "stream",
          "text": [
            "7.666666666666667\n"
          ],
          "name": "stdout"
        }
      ]
    },
    {
      "cell_type": "code",
      "metadata": {
        "id": "37S8SANChnxN",
        "colab_type": "code",
        "colab": {
          "base_uri": "https://localhost:8080/",
          "height": 34
        },
        "outputId": "3a8bf684-443e-488c-c275-3fe105955daf"
      },
      "source": [
        "average"
      ],
      "execution_count": 3,
      "outputs": [
        {
          "output_type": "execute_result",
          "data": {
            "text/plain": [
              "7.666666666666667"
            ]
          },
          "metadata": {
            "tags": []
          },
          "execution_count": 3
        }
      ]
    },
    {
      "cell_type": "markdown",
      "metadata": {
        "id": "Nx0ENpfEhzPQ",
        "colab_type": "text"
      },
      "source": [
        "## Quiz 2. Aurora and Belle's quiz scores"
      ]
    },
    {
      "cell_type": "code",
      "metadata": {
        "id": "CymfnbOuh3Ai",
        "colab_type": "code",
        "colab": {
          "base_uri": "https://localhost:8080/",
          "height": 51
        },
        "outputId": "9cf6194c-4456-4826-a135-6b0883715b15"
      },
      "source": [
        "# calculate Aurora's average score\n",
        "quiz1 = 8\n",
        "quiz2 = 7\n",
        "quiz3 = 8\n",
        "\n",
        "average = (quiz1 + quiz2 + quiz3) / 3\n",
        "print(average)\n",
        "\n",
        "# calculate Belle's average score\n",
        "quiz1 = 9\n",
        "quiz2 = 8\n",
        "quiz3 = 9\n",
        "\n",
        "average = (quiz1 + quiz2 + quiz3) / 3\n",
        "print(average)"
      ],
      "execution_count": 4,
      "outputs": [
        {
          "output_type": "stream",
          "text": [
            "7.666666666666667\n",
            "8.666666666666666\n"
          ],
          "name": "stdout"
        }
      ]
    },
    {
      "cell_type": "markdown",
      "metadata": {
        "id": "ylP077_7ibWS",
        "colab_type": "text"
      },
      "source": [
        "## Quiz3. We have 5 students!"
      ]
    },
    {
      "cell_type": "code",
      "metadata": {
        "id": "ba2kHpqwifgV",
        "colab_type": "code",
        "colab": {
          "base_uri": "https://localhost:8080/",
          "height": 102
        },
        "outputId": "d3126797-67a2-4689-dca0-40e203de8bbb"
      },
      "source": [
        "# calculate Aurora's average score\n",
        "quiz1 = 8\n",
        "quiz2 = 7\n",
        "quiz3 = 8\n",
        "\n",
        "average = (quiz1 + quiz2 + quiz3) / 3\n",
        "print(average)\n",
        "\n",
        "# calculate Belle's average score\n",
        "quiz1 = 9\n",
        "quiz2 = 8\n",
        "quiz3 = 9\n",
        "\n",
        "average = (quiz1 + quiz2 + quiz3) / 3\n",
        "print(average)\n",
        "\n",
        "# calculate Jasmine's average score\n",
        "quiz1 = 8\n",
        "quiz2 = 8\n",
        "quiz3 = 9\n",
        "\n",
        "average = (quiz1 + quiz2 + quiz3) / 3\n",
        "print(average)\n",
        "\n",
        "# calculate Mulan's average score\n",
        "quiz1 = 9\n",
        "quiz2 = 9\n",
        "quiz3 = 7\n",
        "\n",
        "average = (quiz1 + quiz2 + quiz3) / 3\n",
        "print(average)\n",
        "\n",
        "# calculate Rapunzel's average score\n",
        "quiz1 = 7\n",
        "quiz2 = 8\n",
        "quiz3 = 9\n",
        "\n",
        "average = (quiz1 + quiz2 + quiz3) / 3\n",
        "print(average)"
      ],
      "execution_count": 5,
      "outputs": [
        {
          "output_type": "stream",
          "text": [
            "7.666666666666667\n",
            "8.666666666666666\n",
            "8.333333333333334\n",
            "8.333333333333334\n",
            "8.0\n"
          ],
          "name": "stdout"
        }
      ]
    },
    {
      "cell_type": "markdown",
      "metadata": {
        "id": "-I9Yj0BYjOJ4",
        "colab_type": "text"
      },
      "source": [
        "## function approach!"
      ]
    },
    {
      "cell_type": "code",
      "metadata": {
        "id": "FlmNergSjPDj",
        "colab_type": "code",
        "colab": {}
      },
      "source": [
        "def average(quiz1, quiz2, quiz3):\n",
        "    return (quiz1 + quiz2 + quiz3) / 3"
      ],
      "execution_count": 0,
      "outputs": []
    },
    {
      "cell_type": "code",
      "metadata": {
        "id": "KuHn5fxgjQ61",
        "colab_type": "code",
        "colab": {
          "base_uri": "https://localhost:8080/",
          "height": 34
        },
        "outputId": "1d4d196c-c4b4-4704-b5ba-a3d7cab5f5f6"
      },
      "source": [
        "average(8, 7, 8)  # Aurora's average quiz score"
      ],
      "execution_count": 7,
      "outputs": [
        {
          "output_type": "execute_result",
          "data": {
            "text/plain": [
              "7.666666666666667"
            ]
          },
          "metadata": {
            "tags": []
          },
          "execution_count": 7
        }
      ]
    },
    {
      "cell_type": "code",
      "metadata": {
        "id": "iPneakISjdBo",
        "colab_type": "code",
        "colab": {
          "base_uri": "https://localhost:8080/",
          "height": 34
        },
        "outputId": "e1a7cdab-9a11-4ac6-c6d9-462c9f30937c"
      },
      "source": [
        "average(9, 8, 9)  # Belle's average quiz score"
      ],
      "execution_count": 8,
      "outputs": [
        {
          "output_type": "execute_result",
          "data": {
            "text/plain": [
              "8.666666666666666"
            ]
          },
          "metadata": {
            "tags": []
          },
          "execution_count": 8
        }
      ]
    },
    {
      "cell_type": "code",
      "metadata": {
        "id": "J5EDFOYdjg4T",
        "colab_type": "code",
        "colab": {
          "base_uri": "https://localhost:8080/",
          "height": 34
        },
        "outputId": "3603e3e0-63c3-4a0c-fdd0-fe3509e5c625"
      },
      "source": [
        "average(8, 8, 9)  # Jasmine's average quiz score"
      ],
      "execution_count": 9,
      "outputs": [
        {
          "output_type": "execute_result",
          "data": {
            "text/plain": [
              "8.333333333333334"
            ]
          },
          "metadata": {
            "tags": []
          },
          "execution_count": 9
        }
      ]
    },
    {
      "cell_type": "code",
      "metadata": {
        "id": "jUL946jajkk3",
        "colab_type": "code",
        "colab": {
          "base_uri": "https://localhost:8080/",
          "height": 34
        },
        "outputId": "253d62b3-e65d-4246-c565-029d765c9a6f"
      },
      "source": [
        "average(9, 9, 7)  # Mulan's average quiz score"
      ],
      "execution_count": 10,
      "outputs": [
        {
          "output_type": "execute_result",
          "data": {
            "text/plain": [
              "8.333333333333334"
            ]
          },
          "metadata": {
            "tags": []
          },
          "execution_count": 10
        }
      ]
    },
    {
      "cell_type": "code",
      "metadata": {
        "id": "w-s2PAoyjpdb",
        "colab_type": "code",
        "colab": {
          "base_uri": "https://localhost:8080/",
          "height": 34
        },
        "outputId": "34e3d8dd-cc7a-4f46-cb18-ebfe080d757e"
      },
      "source": [
        "average(7, 8, 9)  # Rapunzel's average quiz score"
      ],
      "execution_count": 11,
      "outputs": [
        {
          "output_type": "execute_result",
          "data": {
            "text/plain": [
              "8.0"
            ]
          },
          "metadata": {
            "tags": []
          },
          "execution_count": 11
        }
      ]
    },
    {
      "cell_type": "markdown",
      "metadata": {
        "id": "kK9_oREIkqIw",
        "colab_type": "text"
      },
      "source": [
        "## More quizzes!"
      ]
    },
    {
      "cell_type": "code",
      "metadata": {
        "id": "JTc7Han1ksDg",
        "colab_type": "code",
        "colab": {}
      },
      "source": [
        "def average(quiz1, quiz2, quiz3, quiz4):\n",
        "    return (quiz1 + quiz2 + quiz3 + quiz4) / 4"
      ],
      "execution_count": 0,
      "outputs": []
    },
    {
      "cell_type": "code",
      "metadata": {
        "id": "Oz_kKzYsktJR",
        "colab_type": "code",
        "colab": {
          "base_uri": "https://localhost:8080/",
          "height": 34
        },
        "outputId": "a4876ff5-001d-455b-edda-097f2f862e02"
      },
      "source": [
        "average(8, 7, 8, 9)  # Aurora's average quiz score"
      ],
      "execution_count": 13,
      "outputs": [
        {
          "output_type": "execute_result",
          "data": {
            "text/plain": [
              "8.0"
            ]
          },
          "metadata": {
            "tags": []
          },
          "execution_count": 13
        }
      ]
    },
    {
      "cell_type": "code",
      "metadata": {
        "id": "vSqZsIHukvPk",
        "colab_type": "code",
        "colab": {
          "base_uri": "https://localhost:8080/",
          "height": 34
        },
        "outputId": "c5b8bde3-6d14-44df-c48f-57d9bf1489c2"
      },
      "source": [
        "average(9, 8, 9, 1)  # Belle's average quiz score"
      ],
      "execution_count": 14,
      "outputs": [
        {
          "output_type": "execute_result",
          "data": {
            "text/plain": [
              "6.75"
            ]
          },
          "metadata": {
            "tags": []
          },
          "execution_count": 14
        }
      ]
    },
    {
      "cell_type": "code",
      "metadata": {
        "id": "t_f38fVtkwkz",
        "colab_type": "code",
        "colab": {
          "base_uri": "https://localhost:8080/",
          "height": 34
        },
        "outputId": "d3fd9add-72ce-43ef-9310-12c29350887d"
      },
      "source": [
        "average(8, 8, 9, 3)  # Jasmine's average quiz score"
      ],
      "execution_count": 15,
      "outputs": [
        {
          "output_type": "execute_result",
          "data": {
            "text/plain": [
              "7.0"
            ]
          },
          "metadata": {
            "tags": []
          },
          "execution_count": 15
        }
      ]
    },
    {
      "cell_type": "code",
      "metadata": {
        "id": "bs5nDIPpkzAd",
        "colab_type": "code",
        "colab": {
          "base_uri": "https://localhost:8080/",
          "height": 34
        },
        "outputId": "1cfef04d-8426-4749-e9a1-4f618b199438"
      },
      "source": [
        "average(9, 9, 7, 4)  # Mulan's average quiz score"
      ],
      "execution_count": 16,
      "outputs": [
        {
          "output_type": "execute_result",
          "data": {
            "text/plain": [
              "7.25"
            ]
          },
          "metadata": {
            "tags": []
          },
          "execution_count": 16
        }
      ]
    },
    {
      "cell_type": "code",
      "metadata": {
        "id": "o43YHbBWk0lA",
        "colab_type": "code",
        "colab": {
          "base_uri": "https://localhost:8080/",
          "height": 34
        },
        "outputId": "5481db9c-6a2e-4f49-af94-5833e5741e63"
      },
      "source": [
        "average(7, 8, 9, 10)  # Rapunzel's average quiz score"
      ],
      "execution_count": 17,
      "outputs": [
        {
          "output_type": "execute_result",
          "data": {
            "text/plain": [
              "8.5"
            ]
          },
          "metadata": {
            "tags": []
          },
          "execution_count": 17
        }
      ]
    }
  ]
}